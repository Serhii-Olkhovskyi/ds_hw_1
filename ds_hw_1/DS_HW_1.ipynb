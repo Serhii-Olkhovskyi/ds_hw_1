{
 "cells": [
  {
   "cell_type": "markdown",
   "id": "f69e4d96",
   "metadata": {},
   "source": [
    "# Data Science homework 1"
   ]
  },
  {
   "cell_type": "markdown",
   "id": "236007a9",
   "metadata": {},
   "source": [
    "## Modules:"
   ]
  },
  {
   "cell_type": "code",
   "execution_count": 1,
   "id": "e652223a",
   "metadata": {},
   "outputs": [],
   "source": [
    "import numpy as np"
   ]
  },
  {
   "cell_type": "markdown",
   "id": "80484102",
   "metadata": {},
   "source": [
    "## 1. Створіть одновимірний масив (вектор) з першими 10-ма натуральними числами та виведіть його значення."
   ]
  },
  {
   "cell_type": "code",
   "execution_count": 32,
   "id": "8eb6f574",
   "metadata": {},
   "outputs": [],
   "source": [
    "vector = np.random.randint(1, 11, size=10)"
   ]
  },
  {
   "cell_type": "code",
   "execution_count": 33,
   "id": "1b997cab",
   "metadata": {},
   "outputs": [
    {
     "name": "stdout",
     "output_type": "stream",
     "text": [
      "[ 3 10  8  2  2  8  8  9  1  2]\n"
     ]
    }
   ],
   "source": [
    "print(vector)"
   ]
  },
  {
   "cell_type": "markdown",
   "id": "f1e24a24",
   "metadata": {},
   "source": [
    "## 2. Створіть двовимірний масив (матрицю) розміром 3x3, заповніть його нулями та виведіть його значення"
   ]
  },
  {
   "cell_type": "code",
   "execution_count": 5,
   "id": "c420ec94",
   "metadata": {},
   "outputs": [],
   "source": [
    "arr_zero = np.zeros((3, 3), dtype=int)"
   ]
  },
  {
   "cell_type": "code",
   "execution_count": 6,
   "id": "8d83a1c9",
   "metadata": {},
   "outputs": [
    {
     "name": "stdout",
     "output_type": "stream",
     "text": [
      "[[0 0 0]\n",
      " [0 0 0]\n",
      " [0 0 0]]\n"
     ]
    }
   ],
   "source": [
    "print(arr_zero)"
   ]
  },
  {
   "cell_type": "markdown",
   "id": "96dd9ada",
   "metadata": {},
   "source": [
    "## 3. Створіть масив розміром 5x5, заповніть його випадковими цілими числами в діапазоні від 1 до 10 та виведіть його значення."
   ]
  },
  {
   "cell_type": "code",
   "execution_count": 20,
   "id": "531f6db2",
   "metadata": {},
   "outputs": [],
   "source": [
    "arr_rnd = np.random.randint(1, 11, size = (5, 5))"
   ]
  },
  {
   "cell_type": "code",
   "execution_count": 21,
   "id": "4951d6bc",
   "metadata": {},
   "outputs": [
    {
     "name": "stdout",
     "output_type": "stream",
     "text": [
      "[[ 7  4  6  3  1]\n",
      " [ 6  1  5  3  5]\n",
      " [ 6  5  4  8  3]\n",
      " [10  9  4  3  2]\n",
      " [ 4  2  5  6  9]]\n"
     ]
    }
   ],
   "source": [
    "print(arr_rnd)"
   ]
  },
  {
   "cell_type": "markdown",
   "id": "41799d0c",
   "metadata": {},
   "source": [
    "## 4. Створіть масив розміром 4x4, заповніть його випадковими дійсними числами в діапазоні від 0 до 1 та виведіть його значення."
   ]
  },
  {
   "cell_type": "code",
   "execution_count": 17,
   "id": "79152279",
   "metadata": {},
   "outputs": [],
   "source": [
    "arr_rnd = np.random.random((4, 4))"
   ]
  },
  {
   "cell_type": "code",
   "execution_count": 18,
   "id": "d1a08e08",
   "metadata": {},
   "outputs": [
    {
     "name": "stdout",
     "output_type": "stream",
     "text": [
      "[[0.80243541 0.5621568  0.58432254 0.86608203]\n",
      " [0.71655523 0.74997937 0.86214575 0.93977391]\n",
      " [0.76208361 0.65182184 0.63123007 0.64655406]\n",
      " [0.57288436 0.16451148 0.08199285 0.25725721]]\n"
     ]
    }
   ],
   "source": [
    "print(arr_rnd)"
   ]
  },
  {
   "cell_type": "markdown",
   "id": "1d9ffa7c",
   "metadata": {},
   "source": [
    "# 5. Створіть два одновимірних масиви розміром 5, заповніть їх випадковими цілими числами в діапазоні від 1 до 10 та виконайте на них поелементні операції додавання, віднімання та множення."
   ]
  },
  {
   "cell_type": "code",
   "execution_count": 26,
   "id": "df44ddc3",
   "metadata": {},
   "outputs": [],
   "source": [
    "arr_1 = np.random.randint(1, 11, size = 5)"
   ]
  },
  {
   "cell_type": "code",
   "execution_count": 27,
   "id": "e4e49526",
   "metadata": {},
   "outputs": [],
   "source": [
    "arr_2 = np.random.randint(1, 11, size = 5)"
   ]
  },
  {
   "cell_type": "code",
   "execution_count": 28,
   "id": "89396230",
   "metadata": {},
   "outputs": [
    {
     "name": "stdout",
     "output_type": "stream",
     "text": [
      "[15 15  6  9  3]\n"
     ]
    }
   ],
   "source": [
    "# Додавання\n",
    "print(arr_1 + arr_2)"
   ]
  },
  {
   "cell_type": "code",
   "execution_count": 29,
   "id": "0f608105",
   "metadata": {},
   "outputs": [
    {
     "name": "stdout",
     "output_type": "stream",
     "text": [
      "[ 1 -5 -4  5 -1]\n"
     ]
    }
   ],
   "source": [
    "# Віднімання\n",
    "print(arr_1 - arr_2)"
   ]
  },
  {
   "cell_type": "code",
   "execution_count": 30,
   "id": "cd5188ae",
   "metadata": {},
   "outputs": [
    {
     "name": "stdout",
     "output_type": "stream",
     "text": [
      "[56 50  5 14  2]\n"
     ]
    }
   ],
   "source": [
    "# Множення\n",
    "print(arr_1 * arr_2)"
   ]
  },
  {
   "cell_type": "markdown",
   "id": "aedbfde0",
   "metadata": {},
   "source": [
    "# 6. Створіть два вектори розміром 7, заповніть довільними числами та знайдіть їх скалярний добуток."
   ]
  },
  {
   "cell_type": "code",
   "execution_count": 21,
   "id": "f279eaad",
   "metadata": {},
   "outputs": [],
   "source": [
    "vector_1 = np.random.randint(1, 100, size = 7)"
   ]
  },
  {
   "cell_type": "code",
   "execution_count": 22,
   "id": "a1d9ced0",
   "metadata": {},
   "outputs": [],
   "source": [
    "vector_2 =np.random.randint(1, 100, size = 7)"
   ]
  },
  {
   "cell_type": "code",
   "execution_count": 23,
   "id": "340798da",
   "metadata": {},
   "outputs": [
    {
     "name": "stdout",
     "output_type": "stream",
     "text": [
      "[19 45 26 81 65 38 65]\n"
     ]
    }
   ],
   "source": [
    "# Перший вектор\n",
    "print(vector_1)"
   ]
  },
  {
   "cell_type": "code",
   "execution_count": 24,
   "id": "72298fe8",
   "metadata": {},
   "outputs": [
    {
     "name": "stdout",
     "output_type": "stream",
     "text": [
      "[73  9 47 20 59 16 22]\n"
     ]
    }
   ],
   "source": [
    "# Другий вектор\n",
    "print(vector_2)"
   ]
  },
  {
   "cell_type": "code",
   "execution_count": 25,
   "id": "7edaf7da",
   "metadata": {},
   "outputs": [
    {
     "name": "stdout",
     "output_type": "stream",
     "text": [
      "10507\n"
     ]
    }
   ],
   "source": [
    "# Скалярний добуток\n",
    "print(np.dot(vector_1, vector_2))"
   ]
  },
  {
   "cell_type": "markdown",
   "id": "b2aa6323",
   "metadata": {},
   "source": [
    "# 7. Створіть дві матриці розміром 2x2 та 2x3, заповніть їх випадковими цілими числами в діапазоні від 1 до 10 та перемножте їх між собою."
   ]
  },
  {
   "cell_type": "code",
   "execution_count": 16,
   "id": "640d33ab",
   "metadata": {},
   "outputs": [],
   "source": [
    "arr_1 = np.random.randint(1, 11, size = (2, 2))"
   ]
  },
  {
   "cell_type": "code",
   "execution_count": 17,
   "id": "59295416",
   "metadata": {},
   "outputs": [
    {
     "name": "stdout",
     "output_type": "stream",
     "text": [
      "[[ 3  6]\n",
      " [10  3]]\n"
     ]
    }
   ],
   "source": [
    "# Матриця 2х2\n",
    "print(arr_1)"
   ]
  },
  {
   "cell_type": "code",
   "execution_count": 18,
   "id": "c72c1675",
   "metadata": {},
   "outputs": [],
   "source": [
    "arr_2 = np.random.randint(1, 11, size = (2, 3))"
   ]
  },
  {
   "cell_type": "code",
   "execution_count": 19,
   "id": "da9936f7",
   "metadata": {},
   "outputs": [
    {
     "name": "stdout",
     "output_type": "stream",
     "text": [
      "[[10 10 10]\n",
      " [ 2  7  8]]\n"
     ]
    }
   ],
   "source": [
    "# Матриця 2х3\n",
    "print(arr_2)"
   ]
  },
  {
   "cell_type": "code",
   "execution_count": 20,
   "id": "d6a79a12",
   "metadata": {},
   "outputs": [
    {
     "name": "stdout",
     "output_type": "stream",
     "text": [
      "[[ 42  72  78]\n",
      " [106 121 124]]\n"
     ]
    }
   ],
   "source": [
    "# Результат множення двох матриць\n",
    "print(np.dot(arr_1, arr_2))"
   ]
  },
  {
   "cell_type": "markdown",
   "id": "dcefbf6c",
   "metadata": {},
   "source": [
    "# 8. Створіть матрицю розміром 3x3, заповніть її випадковими цілими числами в діапазоні від 1 до 10 та знайдіть її обернену матрицю."
   ]
  },
  {
   "cell_type": "code",
   "execution_count": 8,
   "id": "ecf9b76d",
   "metadata": {},
   "outputs": [],
   "source": [
    "arr = np.random.randint(1, 11, size = (3, 3))"
   ]
  },
  {
   "cell_type": "code",
   "execution_count": 10,
   "id": "ebcf6b9c",
   "metadata": {},
   "outputs": [],
   "source": [
    "arr_inv = np.linalg.inv(arr)"
   ]
  },
  {
   "cell_type": "code",
   "execution_count": 14,
   "id": "3791d37e",
   "metadata": {},
   "outputs": [
    {
     "name": "stdout",
     "output_type": "stream",
     "text": [
      "[[ 3  8 10]\n",
      " [ 7  6  4]\n",
      " [ 8  7 10]]\n"
     ]
    }
   ],
   "source": [
    "# Матриця розміром 3х3\n",
    "print(arr)"
   ]
  },
  {
   "cell_type": "code",
   "execution_count": 15,
   "id": "a2881280",
   "metadata": {},
   "outputs": [
    {
     "name": "stdout",
     "output_type": "stream",
     "text": [
      "[[-0.16161616  0.05050505  0.14141414]\n",
      " [ 0.19191919  0.25252525 -0.29292929]\n",
      " [-0.00505051 -0.21717172  0.19191919]]\n"
     ]
    }
   ],
   "source": [
    "# Обернена матриця\n",
    "print(arr_inv)"
   ]
  },
  {
   "cell_type": "markdown",
   "id": "bd43d43c",
   "metadata": {},
   "source": [
    "# 9. Створіть матрицю розміром 4x4, заповніть її випадковими дійсними числами в діапазоні від 0 до 1 та транспонуйте її."
   ]
  },
  {
   "cell_type": "code",
   "execution_count": 32,
   "id": "27b55c21",
   "metadata": {},
   "outputs": [],
   "source": [
    "arr = np.random.random((4, 4))"
   ]
  },
  {
   "cell_type": "code",
   "execution_count": 38,
   "id": "c476f6ab",
   "metadata": {},
   "outputs": [
    {
     "name": "stdout",
     "output_type": "stream",
     "text": [
      "[[0.25632241 0.04574274 0.98239219 0.55801591]\n",
      " [0.52930598 0.54664434 0.14974    0.17433484]\n",
      " [0.42282315 0.96976709 0.86500713 0.84986657]\n",
      " [0.27274738 0.56382244 0.71297755 0.98370933]]\n"
     ]
    }
   ],
   "source": [
    "# Матриця 4х4\n",
    "print(arr)"
   ]
  },
  {
   "cell_type": "code",
   "execution_count": 39,
   "id": "6abf1b18",
   "metadata": {},
   "outputs": [],
   "source": [
    "arr_t = arr.T"
   ]
  },
  {
   "cell_type": "code",
   "execution_count": 40,
   "id": "35410606",
   "metadata": {},
   "outputs": [
    {
     "name": "stdout",
     "output_type": "stream",
     "text": [
      "[[0.25632241 0.52930598 0.42282315 0.27274738]\n",
      " [0.04574274 0.54664434 0.96976709 0.56382244]\n",
      " [0.98239219 0.14974    0.86500713 0.71297755]\n",
      " [0.55801591 0.17433484 0.84986657 0.98370933]]\n"
     ]
    }
   ],
   "source": [
    "# Транспонована матриця 4х4\n",
    "print(arr_t)"
   ]
  },
  {
   "cell_type": "markdown",
   "id": "db1ffd1a",
   "metadata": {},
   "source": [
    "# 10. Створіть матрицю розміром 3x4 та вектор розміром 4, заповніть їх випадковими цілими числами в діапазоні від 1 до 10 та перемножте матрицю на вектор."
   ]
  },
  {
   "cell_type": "code",
   "execution_count": 41,
   "id": "670d9d84",
   "metadata": {},
   "outputs": [],
   "source": [
    "vector = np.random.randint(1, 11, size = 4)"
   ]
  },
  {
   "cell_type": "code",
   "execution_count": 42,
   "id": "5c0f05ed",
   "metadata": {},
   "outputs": [],
   "source": [
    "arr = np.random.randint(1, 11, size = (3, 4))"
   ]
  },
  {
   "cell_type": "code",
   "execution_count": 43,
   "id": "29eb6065",
   "metadata": {},
   "outputs": [
    {
     "name": "stdout",
     "output_type": "stream",
     "text": [
      "[4 8 3 4]\n"
     ]
    }
   ],
   "source": [
    "print(vector)"
   ]
  },
  {
   "cell_type": "code",
   "execution_count": 44,
   "id": "4670f81f",
   "metadata": {},
   "outputs": [
    {
     "name": "stdout",
     "output_type": "stream",
     "text": [
      "[[ 6  1  1  7]\n",
      " [10  8  5  9]\n",
      " [ 8  5  1  7]]\n"
     ]
    }
   ],
   "source": [
    "print(arr)"
   ]
  },
  {
   "cell_type": "code",
   "execution_count": 46,
   "id": "a18eb281",
   "metadata": {},
   "outputs": [
    {
     "name": "stdout",
     "output_type": "stream",
     "text": [
      "[ 63 155 103]\n"
     ]
    }
   ],
   "source": [
    "print(np.dot(arr, vector))"
   ]
  },
  {
   "cell_type": "markdown",
   "id": "b108b79f",
   "metadata": {},
   "source": [
    "# 11. Створіть матрицю розміром 2x3 та вектор розміром 3, заповніть їх випадковими дійсними числами в діапазоні від 0 до 1 та перемножте матрицю на вектор."
   ]
  },
  {
   "cell_type": "code",
   "execution_count": 47,
   "id": "b3837573",
   "metadata": {},
   "outputs": [],
   "source": [
    "vector = np.random.random(3)"
   ]
  },
  {
   "cell_type": "code",
   "execution_count": 48,
   "id": "24887cb7",
   "metadata": {},
   "outputs": [
    {
     "name": "stdout",
     "output_type": "stream",
     "text": [
      "[0.28858836 0.33858412 0.85857552]\n"
     ]
    }
   ],
   "source": [
    "print(vector)"
   ]
  },
  {
   "cell_type": "code",
   "execution_count": 49,
   "id": "85d2121d",
   "metadata": {},
   "outputs": [],
   "source": [
    "arr = np.random.random((2, 3))"
   ]
  },
  {
   "cell_type": "code",
   "execution_count": 50,
   "id": "1c539b7f",
   "metadata": {},
   "outputs": [
    {
     "name": "stdout",
     "output_type": "stream",
     "text": [
      "[[0.58329289 0.07202132 0.8638529 ]\n",
      " [0.28768369 0.94881828 0.09936643]]\n"
     ]
    }
   ],
   "source": [
    "print(arr)"
   ]
  },
  {
   "cell_type": "code",
   "execution_count": 51,
   "id": "4dcf6691",
   "metadata": {},
   "outputs": [
    {
     "name": "stdout",
     "output_type": "stream",
     "text": [
      "[0.93439976 0.48959056]\n"
     ]
    }
   ],
   "source": [
    "print(np.dot(arr, vector))"
   ]
  },
  {
   "cell_type": "markdown",
   "id": "3064d987",
   "metadata": {},
   "source": [
    "# 12. Створіть дві матриці розміром 2x2, заповніть їх випадковими цілими числами в діапазоні від 1 до 10 та виконайте їхнє поелементне множення."
   ]
  },
  {
   "cell_type": "code",
   "execution_count": 60,
   "id": "46501a68",
   "metadata": {},
   "outputs": [],
   "source": [
    "arr_1 = np.random.randint(1, 11, size=(2, 2))"
   ]
  },
  {
   "cell_type": "code",
   "execution_count": 61,
   "id": "b472d0d7",
   "metadata": {},
   "outputs": [],
   "source": [
    "arr_2 = np.random.randint(1, 11, size=(2, 2))"
   ]
  },
  {
   "cell_type": "code",
   "execution_count": 62,
   "id": "a6ffbc24",
   "metadata": {},
   "outputs": [
    {
     "name": "stdout",
     "output_type": "stream",
     "text": [
      "[[48 12]\n",
      " [30 90]]\n"
     ]
    }
   ],
   "source": [
    "print(arr_1*arr_2)"
   ]
  },
  {
   "cell_type": "markdown",
   "id": "6eac4f96",
   "metadata": {},
   "source": [
    "# 13. Створіть дві матриці розміром 2x2, заповніть їх випадковими цілими числами в діапазоні від 1 до 10 та знайдіть їх добуток."
   ]
  },
  {
   "cell_type": "code",
   "execution_count": 3,
   "id": "64181ce0",
   "metadata": {},
   "outputs": [
    {
     "name": "stdout",
     "output_type": "stream",
     "text": [
      "[[5 5]\n",
      " [9 3]]\n"
     ]
    }
   ],
   "source": [
    "arr_1 = np.random.randint(1, 11, size=(2, 2))\n",
    "print(arr_1)"
   ]
  },
  {
   "cell_type": "code",
   "execution_count": 4,
   "id": "6488a0d7",
   "metadata": {},
   "outputs": [
    {
     "name": "stdout",
     "output_type": "stream",
     "text": [
      "[[ 5  7]\n",
      " [ 3 10]]\n"
     ]
    }
   ],
   "source": [
    "arr_2 = np.random.randint(1, 11, size=(2, 2))\n",
    "print(arr_2)"
   ]
  },
  {
   "cell_type": "code",
   "execution_count": 11,
   "id": "01ad315f",
   "metadata": {},
   "outputs": [
    {
     "name": "stdout",
     "output_type": "stream",
     "text": [
      "[[40 85]\n",
      " [54 93]]\n"
     ]
    }
   ],
   "source": [
    "# Добуток\n",
    "print(np.dot(arr_1, arr_2))"
   ]
  },
  {
   "cell_type": "markdown",
   "id": "4e4d49c1",
   "metadata": {},
   "source": [
    "# 14. Створіть матрицю розміром 5x5, заповніть її випадковими цілими числами в діапазоні від 1 до 100 та знайдіть суму елементів матриці."
   ]
  },
  {
   "cell_type": "code",
   "execution_count": 9,
   "id": "f30c5acc",
   "metadata": {},
   "outputs": [
    {
     "name": "stdout",
     "output_type": "stream",
     "text": [
      "[[ 76  98  31  78   5]\n",
      " [ 55  57  38   9  88]\n",
      " [ 73  78 100  67   9]\n",
      " [ 40  13  23  92  47]\n",
      " [ 97  19   3  89   5]]\n"
     ]
    }
   ],
   "source": [
    "arr = np.random.randint(1, 101, size=(5, 5))\n",
    "print(arr)"
   ]
  },
  {
   "cell_type": "code",
   "execution_count": 13,
   "id": "8546c6c4",
   "metadata": {},
   "outputs": [
    {
     "name": "stdout",
     "output_type": "stream",
     "text": [
      "1290\n"
     ]
    }
   ],
   "source": [
    "# Сума елементів матриці arr\n",
    "print(np.sum(arr))"
   ]
  },
  {
   "cell_type": "markdown",
   "id": "555c9395",
   "metadata": {},
   "source": [
    "# 15. Створіть дві матриці розміром 4x4, заповніть їх випадковими цілими числами в діапазоні від 1 до 10 та знайдіть їхню різницю."
   ]
  },
  {
   "cell_type": "code",
   "execution_count": 14,
   "id": "d1b6dfba",
   "metadata": {},
   "outputs": [
    {
     "name": "stdout",
     "output_type": "stream",
     "text": [
      "[[ 4 10  6  6]\n",
      " [ 1  4  6  5]\n",
      " [ 7  3  3  2]\n",
      " [ 6  7  4  2]]\n"
     ]
    }
   ],
   "source": [
    "arr_1 = np.random.randint(1, 11, size=(4, 4))\n",
    "print(arr_1)"
   ]
  },
  {
   "cell_type": "code",
   "execution_count": 15,
   "id": "3f273bb5",
   "metadata": {},
   "outputs": [
    {
     "name": "stdout",
     "output_type": "stream",
     "text": [
      "[[10  5  5  6]\n",
      " [ 3  6  6  4]\n",
      " [ 9  7  4  7]\n",
      " [10  8  1  3]]\n"
     ]
    }
   ],
   "source": [
    "arr_2 = np.random.randint(1, 11, size = (4, 4))\n",
    "print(arr_2)"
   ]
  },
  {
   "cell_type": "code",
   "execution_count": 17,
   "id": "1af7e91c",
   "metadata": {},
   "outputs": [
    {
     "name": "stdout",
     "output_type": "stream",
     "text": [
      "[[-6  5  1  0]\n",
      " [-2 -2  0  1]\n",
      " [-2 -4 -1 -5]\n",
      " [-4 -1  3 -1]]\n"
     ]
    }
   ],
   "source": [
    "# Різниця двох матриць\n",
    "print(arr_1 - arr_2)"
   ]
  },
  {
   "cell_type": "markdown",
   "id": "e035dda6",
   "metadata": {},
   "source": [
    "# 16. Створіть матрицю розміром 3x3, заповніть її випадковими дійсними числами в діапазоні від 0 до 1 та знайдіть вектор-стовпчик, що містить суму елементів кожного рядка матриці."
   ]
  },
  {
   "cell_type": "code",
   "execution_count": null,
   "id": "18bb04b8",
   "metadata": {},
   "outputs": [],
   "source": []
  },
  {
   "cell_type": "code",
   "execution_count": null,
   "id": "f0be200a",
   "metadata": {},
   "outputs": [],
   "source": []
  },
  {
   "cell_type": "markdown",
   "id": "454b7e85",
   "metadata": {},
   "source": [
    "# 17. Створіть матрицю розміром 3x4 з довільними цілими числами і створіть матрицю з квадратами цих чисел."
   ]
  },
  {
   "cell_type": "code",
   "execution_count": null,
   "id": "c0b2ad56",
   "metadata": {},
   "outputs": [],
   "source": []
  },
  {
   "cell_type": "code",
   "execution_count": null,
   "id": "bfb70071",
   "metadata": {},
   "outputs": [],
   "source": []
  },
  {
   "cell_type": "markdown",
   "id": "fdab93f4",
   "metadata": {},
   "source": [
    "# 18. Створіть вектор розміром 4, заповніть його випадковими цілими числами в діапазоні від 1 до 50 та знайдіть вектор з квадратними коренями цих чисел."
   ]
  },
  {
   "cell_type": "code",
   "execution_count": 18,
   "id": "f47fc452",
   "metadata": {},
   "outputs": [
    {
     "name": "stdout",
     "output_type": "stream",
     "text": [
      "[19 10 36  7]\n"
     ]
    }
   ],
   "source": [
    "vector = np.random.randint(1, 51, size = 4)\n",
    "print(vector)"
   ]
  },
  {
   "cell_type": "code",
   "execution_count": null,
   "id": "93f0b37a",
   "metadata": {},
   "outputs": [],
   "source": []
  },
  {
   "cell_type": "code",
   "execution_count": null,
   "id": "e5d1560b",
   "metadata": {},
   "outputs": [],
   "source": []
  },
  {
   "cell_type": "code",
   "execution_count": null,
   "id": "7814cb87",
   "metadata": {},
   "outputs": [],
   "source": []
  },
  {
   "cell_type": "code",
   "execution_count": null,
   "id": "5c596592",
   "metadata": {},
   "outputs": [],
   "source": []
  }
 ],
 "metadata": {
  "kernelspec": {
   "display_name": "ds_hw_1",
   "language": "python",
   "name": "ds_hw_1"
  },
  "language_info": {
   "codemirror_mode": {
    "name": "ipython",
    "version": 3
   },
   "file_extension": ".py",
   "mimetype": "text/x-python",
   "name": "python",
   "nbconvert_exporter": "python",
   "pygments_lexer": "ipython3",
   "version": "3.10.5"
  }
 },
 "nbformat": 4,
 "nbformat_minor": 5
}
